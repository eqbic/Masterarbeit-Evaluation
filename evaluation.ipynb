{
 "cells": [
  {
   "cell_type": "code",
   "id": "initial_id",
   "metadata": {
    "collapsed": true,
    "ExecuteTime": {
     "end_time": "2024-11-01T13:11:41.967334Z",
     "start_time": "2024-11-01T13:11:41.961816Z"
    }
   },
   "source": [
    "from pathlib import Path\n",
    "from gps_accuracy.gps_accuracy import gpx_to_utm\n"
   ],
   "outputs": [
    {
     "ename": "SyntaxError",
     "evalue": "invalid syntax (2891876748.py, line 2)",
     "output_type": "error",
     "traceback": [
      "\u001B[1;36m  Cell \u001B[1;32mIn[3], line 2\u001B[1;36m\u001B[0m\n\u001B[1;33m    import gps-accuracy\u001B[0m\n\u001B[1;37m              ^\u001B[0m\n\u001B[1;31mSyntaxError\u001B[0m\u001B[1;31m:\u001B[0m invalid syntax\n"
     ]
    }
   ],
   "execution_count": 3
  },
  {
   "metadata": {
    "ExecuteTime": {
     "end_time": "2024-11-01T13:06:27.527272Z",
     "start_time": "2024-11-01T13:06:27.518275Z"
    }
   },
   "cell_type": "code",
   "source": [
    "reference_tracks_path = Path(\"reference_tracks\")\n",
    "recorded_tracks_path = Path(\"recorded_tracks\")\n",
    "reference_tracks = [track for track in reference_tracks_path.iterdir() if track.is_file()]\n",
    "recorded_tracks = [track for track in recorded_tracks_path.iterdir() if track.is_file()]"
   ],
   "id": "a5f1060afdea6c7d",
   "outputs": [],
   "execution_count": 2
  },
  {
   "metadata": {},
   "cell_type": "code",
   "outputs": [],
   "execution_count": null,
   "source": "track = gpx_to_utm()",
   "id": "f369a85162cc7b33"
  }
 ],
 "metadata": {
  "kernelspec": {
   "display_name": "Python 3",
   "language": "python",
   "name": "python3"
  },
  "language_info": {
   "codemirror_mode": {
    "name": "ipython",
    "version": 2
   },
   "file_extension": ".py",
   "mimetype": "text/x-python",
   "name": "python",
   "nbconvert_exporter": "python",
   "pygments_lexer": "ipython2",
   "version": "2.7.6"
  }
 },
 "nbformat": 4,
 "nbformat_minor": 5
}
