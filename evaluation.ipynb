{
 "cells": [
  {
   "cell_type": "code",
   "id": "initial_id",
   "metadata": {
    "collapsed": true,
    "ExecuteTime": {
     "end_time": "2024-11-12T09:50:04.054656Z",
     "start_time": "2024-11-12T09:50:04.015785Z"
    }
   },
   "source": [
    "from dataclasses import dataclass\n",
    "from enum import Enum\n",
    "from pathlib import Path\n",
    "from typing import List\n",
    "\n",
    "import matplotlib.pyplot as plt\n",
    "import numpy as np\n",
    "\n",
    "from gps_accuracy.gps_accuracy import GpxResult\n",
    "%load_ext autoreload\n",
    "%autoreload 2"
   ],
   "outputs": [
    {
     "name": "stdout",
     "output_type": "stream",
     "text": [
      "The autoreload extension is already loaded. To reload it, use:\n",
      "  %reload_ext autoreload\n"
     ]
    }
   ],
   "execution_count": 40
  },
  {
   "metadata": {
    "ExecuteTime": {
     "end_time": "2024-11-12T10:36:56.233956Z",
     "start_time": "2024-11-12T10:36:56.181436Z"
    }
   },
   "cell_type": "code",
   "source": [
    "from gps_accuracy.gps_accuracy import GpxEvaluator\n",
    "import pandas as pd\n",
    "\n",
    "class InputType(Enum):\n",
    "    Touch = 1\n",
    "    TUI = 2\n",
    "    \n",
    "class Metaphor(Enum):\n",
    "    Gesture = 1\n",
    "    Joystick = 2\n",
    "    Car =  3\n",
    "    \n",
    "@dataclass\n",
    "class ReferenceTrack:\n",
    "    track_id: int\n",
    "    file: Path\n",
    "    \n",
    "    def __init__(self, file_path: Path):\n",
    "        self.track_id = int(file_path.stem)\n",
    "        self.file = file_path\n",
    "\n",
    "@dataclass\n",
    "class RecordedTrack:\n",
    "    track_id: int\n",
    "    user_id: int\n",
    "    input_type: InputType\n",
    "    metaphor: Metaphor\n",
    "    file: Path\n",
    "    result: GpxResult\n",
    "    \n",
    "    def __init__(self, file_path: Path):\n",
    "        file_name = file_path.stem\n",
    "        parts = file_name.split(\"_\")\n",
    "        self.track_id: int = int(parts[0])\n",
    "        self.user_id: int = int(parts[1])\n",
    "        self.input_type: InputType = InputType[parts[2]]\n",
    "        self.metaphor: Metaphor = Metaphor[parts[3]]\n",
    "        self.file: Path = file_path\n",
    "    \n",
    "    def evaluate(self, reference_track: ReferenceTrack):\n",
    "        evaluator = GpxEvaluator(reference_track.file, self.file)\n",
    "        self.result = evaluator.evaluate()\n",
    "              \n",
    "@dataclass\n",
    "class TrackRepository:\n",
    "    reference_tracks: dict\n",
    "    recorded_tracks: List[RecordedTrack]\n",
    "    \n",
    "    def __init__(self):\n",
    "        reference_track_list = [ReferenceTrack(track_file) for track_file in Path(\"reference_tracks\").iterdir() if track_file.is_file()]\n",
    "        self.reference_tracks = {track.track_id: track for track in reference_track_list}\n",
    "        self.recorded_tracks = [RecordedTrack(track_file) for track_file in Path(\"recorded_tracks\").iterdir() if track_file.is_file()]\n",
    "        self._evaluate() \n",
    "    \n",
    "    def _evaluate(self):\n",
    "        for track in self.recorded_tracks:\n",
    "            reference_track = self.reference_tracks[track.track_id]\n",
    "            track.evaluate(reference_track)\n",
    "        \n",
    "    def get_by_track(self, track_id: int) -> List[RecordedTrack]:\n",
    "        return [track for track in self.recorded_tracks if track.track_id == track_id]\n",
    "\n",
    "    def get_by_user(self, user_id: int) -> List[RecordedTrack]:\n",
    "        return [track for track in self.recorded_tracks if track.user_id == user_id]\n",
    "    \n",
    "    def get_by_input_type(self, input_type: InputType) -> List[RecordedTrack]:\n",
    "        return [track for track in self.recorded_tracks if track.input_type == input_type]\n",
    "    \n",
    "    def get_by_metaphor(self, metaphor: Metaphor) -> List[RecordedTrack]:\n",
    "        return [track for track in self.recorded_tracks if track.metaphor == metaphor]\n",
    "    \n",
    "    def get_all(self) -> List[RecordedTrack]:\n",
    "        return self.recorded_tracks\n",
    "\n",
    "class Category(Enum):\n",
    "    InputType = 1\n",
    "\n",
    "class ResultPlotter:\n",
    "    def __init__(self):\n",
    "        self.repo = TrackRepository()\n",
    "        tracks = self.repo.get_by_user(1)\n",
    "        data = {\n",
    "            'Track': [track.track_id for track in tracks],\n",
    "            'Input': [f\"{track.input_type.name}_{track.metaphor.name}\" for track in tracks],\n",
    "            'InputType': [track.input_type.name for track in tracks],\n",
    "            'Time': [track.result.time for track in tracks],\n",
    "            'MeanError': [track.result.mean for track in tracks],\n",
    "            'MedianError': [track.result.median for track in tracks]\n",
    "        }\n",
    "        self.data_frame = pd.DataFrame(data)\n",
    "        \n",
    "    def print_times(self, category: Category = None):\n",
    "        col = \"Input\" if category is None else category.name\n",
    "        pivot_df = self.data_frame.pivot_table(index=\"Track\", columns=col, values=\"Time\")\n",
    "        print(pivot_df)\n",
    "        \n",
    "    def print_mean_errors(self, category: Category = None):\n",
    "        col = \"Input\" if category is None else category.name\n",
    "        pivot_df = self.data_frame.pivot_table(index=\"Track\", columns=col, values=\"MeanError\")\n",
    "        print(pivot_df)\n",
    "    \n",
    "    def print_median_errors(self, category: Category = None):\n",
    "        col = \"Input\" if category is None else category.name\n",
    "        pivot_df = self.data_frame.pivot_table(index=\"Track\", columns=col, values=\"MedianError\")\n",
    "        print(pivot_df)\n",
    "    "
   ],
   "id": "3b5ee37f61887d48",
   "outputs": [],
   "execution_count": 83
  },
  {
   "metadata": {
    "ExecuteTime": {
     "end_time": "2024-11-12T10:34:58.762528Z",
     "start_time": "2024-11-12T10:34:54.648057Z"
    }
   },
   "cell_type": "code",
   "source": [
    "plotter = ResultPlotter()\n",
    "plotter.print_times()\n",
    "plotter.print_times(Category.InputType)\n",
    "plotter.print_mean_errors()\n",
    "plotter.print_mean_errors(Category.InputType)\n",
    "plotter.print_median_errors()\n",
    "plotter.print_median_errors(Category.InputType)\n"
   ],
   "id": "f46e084b03c28ecb",
   "outputs": [
    {
     "name": "stdout",
     "output_type": "stream",
     "text": [
      "Input  TUI_Car  TUI_Joystick  Touch_Gesture  Touch_Joystick\n",
      "Track                                                      \n",
      "1         59.0          73.0           82.0            50.0\n",
      "2        145.0         127.0          154.0           122.0\n",
      "3        212.0         216.0          173.0           170.0\n",
      "4         88.0         113.0          130.0            95.0\n",
      "InputType    TUI  Touch\n",
      "Track                  \n",
      "1           66.0   66.0\n",
      "2          136.0  138.0\n",
      "3          214.0  171.5\n",
      "4          100.5  112.5\n",
      "Input   TUI_Car  TUI_Joystick  Touch_Gesture  Touch_Joystick\n",
      "Track                                                       \n",
      "1      1.307045      1.353243       1.533747        1.619588\n",
      "2      1.457662      1.451574       1.323020        1.907478\n",
      "3      1.403549      1.281827       1.583566        1.931482\n",
      "4      2.221321      1.555127       1.306705        1.822990\n",
      "InputType       TUI     Touch\n",
      "Track                        \n",
      "1          1.330144  1.576667\n",
      "2          1.454618  1.615249\n",
      "3          1.342688  1.757524\n",
      "4          1.888224  1.564848\n",
      "Input   TUI_Car  TUI_Joystick  Touch_Gesture  Touch_Joystick\n",
      "Track                                                       \n",
      "1      0.976914      1.061611       1.267494        0.972390\n",
      "2      0.910576      1.053100       1.116467        1.238287\n",
      "3      0.927145      0.950069       1.302811        1.391705\n",
      "4      1.723031      1.135927       1.108262        1.306815\n",
      "InputType       TUI     Touch\n",
      "Track                        \n",
      "1          1.019263  1.119942\n",
      "2          0.981838  1.177377\n",
      "3          0.938607  1.347258\n",
      "4          1.429479  1.207538\n"
     ]
    }
   ],
   "execution_count": 82
  }
 ],
 "metadata": {
  "kernelspec": {
   "display_name": "Python 3",
   "language": "python",
   "name": "python3"
  },
  "language_info": {
   "codemirror_mode": {
    "name": "ipython",
    "version": 2
   },
   "file_extension": ".py",
   "mimetype": "text/x-python",
   "name": "python",
   "nbconvert_exporter": "python",
   "pygments_lexer": "ipython2",
   "version": "2.7.6"
  }
 },
 "nbformat": 4,
 "nbformat_minor": 5
}
