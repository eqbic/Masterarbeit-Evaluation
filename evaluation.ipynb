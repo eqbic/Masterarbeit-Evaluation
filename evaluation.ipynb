{
 "cells": [
  {
   "cell_type": "code",
   "id": "initial_id",
   "metadata": {
    "collapsed": true
   },
   "source": [
    "from dataclasses import dataclass\n",
    "from enum import Enum\n",
    "from pathlib import Path\n",
    "from typing import List\n",
    "\n",
    "import numpy as np\n",
    "import matplotlib.pyplot as plt\n",
    "%load_ext autoreload\n",
    "%autoreload 2"
   ],
   "outputs": [],
   "execution_count": null
  },
  {
   "metadata": {
    "ExecuteTime": {
     "end_time": "2024-11-12T09:14:36.258524Z",
     "start_time": "2024-11-12T09:14:36.220758Z"
    }
   },
   "cell_type": "code",
   "source": [
    "class InputType(Enum):\n",
    "    Touch = 1\n",
    "    TUI = 2\n",
    "    \n",
    "class Metaphor(Enum):\n",
    "    Gesture = 1\n",
    "    Joystick = 2\n",
    "    Car =  3\n",
    "\n",
    "@dataclass\n",
    "class GpxTrack:\n",
    "    track_id: int\n",
    "    user_id: int\n",
    "    input_type: InputType\n",
    "    metaphor: Metaphor\n",
    "    file: Path\n",
    "    \n",
    "    def __init__(self, file_path: Path):\n",
    "        file_name = file_path.stem\n",
    "        parts = file_name.split(\"_\")\n",
    "        self.track_id: int = int(parts[0])\n",
    "        self.user_id: int = int(parts[1])\n",
    "        self.input_type: InputType = InputType[parts[2]]\n",
    "        self.metaphor: Metaphor = Metaphor[parts[3]]\n",
    "        self.file: Path = file_path\n",
    "        \n",
    "@dataclass\n",
    "class TrackRepository:\n",
    "    reference_track_files: List[Path]\n",
    "    recorded_tracks: List[GpxTrack]\n",
    "    \n",
    "    def __init__(self):\n",
    "        self.reference_track_files = [track_file for track_file in Path(\"reference_tracks\").iterdir() if track_file.is_file()]\n",
    "        self.recorded_tracks = [GpxTrack(track_file) for track_file in Path(\"recorded_tracks\").iterdir() if track_file.is_file()]\n",
    "        \n",
    "    def get_by_track(self, track_id: int) -> List[GpxTrack]:\n",
    "        return [track for track in self.recorded_tracks if track.track_id == track_id]\n",
    "\n",
    "    def get_by_user(self, user_id: int) -> List[GpxTrack]:\n",
    "        return [track for track in self.recorded_tracks if track.user_id == user_id]\n",
    "    \n",
    "    def get_by_input_type(self, input_type: InputType) -> List[GpxTrack]:\n",
    "        return [track for track in self.recorded_tracks if track.input_type == input_type]\n",
    "    \n",
    "    def get_by_metaphor(self, metaphor: Metaphor) -> List[GpxTrack]:\n",
    "        return [track for track in self.recorded_tracks if track.metaphor == metaphor]\n",
    "    "
   ],
   "id": "3b5ee37f61887d48",
   "outputs": [],
   "execution_count": 26
  },
  {
   "metadata": {
    "ExecuteTime": {
     "end_time": "2024-11-12T09:15:04.878047Z",
     "start_time": "2024-11-12T09:15:04.841639Z"
    }
   },
   "cell_type": "code",
   "source": [
    "repo = TrackRepository()\n",
    "print(repo.get_by_track(1))"
   ],
   "id": "f46e084b03c28ecb",
   "outputs": [
    {
     "name": "stdout",
     "output_type": "stream",
     "text": [
      "[GpxTrack(track_id=1, user_id=1, input_type=<InputType.Touch: 1>, metaphor=<Metaphor.Gesture: 1>, file=WindowsPath('recorded_tracks/1_1_Touch_Gesture_24-11-01-11-32-42.gpx')), GpxTrack(track_id=1, user_id=1, input_type=<InputType.Touch: 1>, metaphor=<Metaphor.Joystick: 2>, file=WindowsPath('recorded_tracks/1_1_Touch_Joystick_24-11-01-12-00-54.gpx')), GpxTrack(track_id=1, user_id=1, input_type=<InputType.TUI: 2>, metaphor=<Metaphor.Car: 3>, file=WindowsPath('recorded_tracks/1_1_TUI_Car_24-11-01-12-12-41.gpx')), GpxTrack(track_id=1, user_id=1, input_type=<InputType.TUI: 2>, metaphor=<Metaphor.Joystick: 2>, file=WindowsPath('recorded_tracks/1_1_TUI_Joystick_24-11-01-12-26-28.gpx'))]\n"
     ]
    }
   ],
   "execution_count": 27
  },
  {
   "metadata": {},
   "cell_type": "code",
   "source": [
    "tracks = {}\n",
    "for ref in reference_track_files:\n",
    "    name = ref.stem\n",
    "    tracks[ref] = [track for track in recorded_track_files if str(track.stem).split(\"_\")[0] == name]"
   ],
   "id": "a0f978c9c970e626",
   "outputs": [],
   "execution_count": null
  },
  {
   "metadata": {},
   "cell_type": "code",
   "source": [
    "from gps_accuracy.gps_accuracy import GpxEvaluator\n",
    "results = {}\n",
    "for k,v in tracks.items():\n",
    "    name = k.stem\n",
    "    track_results = []\n",
    "    for track_file in v:\n",
    "        evaluator = GpxEvaluator(k, track_file)\n",
    "        track_results.append(evaluator.evaluate())\n",
    "    results[name] = track_results"
   ],
   "id": "6f8b984662e29207",
   "outputs": [],
   "execution_count": null
  },
  {
   "metadata": {},
   "cell_type": "code",
   "source": [
    "track_names = [name for name in results.keys()]\n",
    "mean_errors = {\n",
    "    \"Touch_Gesture\" : [results[track_name][0].mean for track_name in results.keys()],\n",
    "    \"Touch_Joystick\" : [results[track_name][1].mean for track_name in results.keys()],\n",
    "    \"TUI_Car\": [results[track_name][2].mean for track_name in results.keys()],\n",
    "    \"TUI_Joystick\": [results[track_name][3].mean for track_name in results.keys()]\n",
    "}\n",
    "\n",
    "max_value = np.max([x for x in mean_errors.values()])\n",
    "max_value *= 1.1\n",
    "x = np.arange(len(track_names))\n",
    "width = 0.1\n",
    "multiplier = 0\n",
    "\n",
    "fig, ax = plt.subplots(layout='compressed')\n",
    "\n",
    "fig.set_figwidth(10)\n",
    "\n",
    "for attribute, measurement in mean_errors.items():\n",
    "    offset = width * multiplier\n",
    "    rects = ax.bar(x + offset, measurement, width, label=attribute)\n",
    "    ax.bar_label(rects, padding=4)\n",
    "    multiplier += 1\n",
    "\n",
    "ax.set_ylabel('Mean Error')\n",
    "ax.set_title('Mean Error by Input Type')\n",
    "ax.set_xticks(x + width, track_names)\n",
    "ax.legend(loc='upper left', ncols=4)\n",
    "ax.set_ylim(0, max_value)\n",
    "\n",
    "plt.show()"
   ],
   "id": "7f35b2bd05dbe70d",
   "outputs": [],
   "execution_count": null
  },
  {
   "metadata": {},
   "cell_type": "code",
   "source": [
    "track_names = [name for name in results.keys()]\n",
    "times = {\n",
    "    \"Touch_Gesture\" : [results[track_name][0].time for track_name in results.keys()],\n",
    "    \"Touch_Joystick\" : [results[track_name][1].time for track_name in results.keys()],\n",
    "    \"TUI_Car\": [results[track_name][2].time for track_name in results.keys()],\n",
    "    \"TUI_Joystick\": [results[track_name][3].time for track_name in results.keys()]\n",
    "}\n",
    "\n",
    "max_value = np.max([x for x in times.values()])\n",
    "max_value *= 1.1\n",
    "\n",
    "x = np.arange(len(track_names))\n",
    "width = 0.1\n",
    "multiplier = 0\n",
    "\n",
    "fig, ax = plt.subplots(layout='constrained')\n",
    "\n",
    "fig.set_figwidth(10)\n",
    "\n",
    "for attribute, measurement in times.items():\n",
    "    offset = width * multiplier\n",
    "    rects = ax.bar(x + offset, measurement, width, label=attribute)\n",
    "    ax.bar_label(rects, padding=4)\n",
    "    multiplier += 1\n",
    "\n",
    "ax.set_ylabel('Time')\n",
    "ax.set_title('Time needed by Input Type in s')\n",
    "ax.set_xticks(x + width, track_names)\n",
    "ax.legend(loc='upper left', ncols=4)\n",
    "ax.set_ylim(0, max_value)\n",
    "\n",
    "plt.show()"
   ],
   "id": "b6824b836f3369c2",
   "outputs": [],
   "execution_count": null
  },
  {
   "metadata": {},
   "cell_type": "code",
   "source": "",
   "id": "e4dcff3903032241",
   "outputs": [],
   "execution_count": null
  }
 ],
 "metadata": {
  "kernelspec": {
   "display_name": "Python 3",
   "language": "python",
   "name": "python3"
  },
  "language_info": {
   "codemirror_mode": {
    "name": "ipython",
    "version": 2
   },
   "file_extension": ".py",
   "mimetype": "text/x-python",
   "name": "python",
   "nbconvert_exporter": "python",
   "pygments_lexer": "ipython2",
   "version": "2.7.6"
  }
 },
 "nbformat": 4,
 "nbformat_minor": 5
}
