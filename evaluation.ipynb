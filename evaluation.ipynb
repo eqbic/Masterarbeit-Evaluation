{
 "cells": [
  {
   "cell_type": "code",
   "id": "initial_id",
   "metadata": {
    "collapsed": true,
    "ExecuteTime": {
     "end_time": "2024-11-12T09:50:04.054656Z",
     "start_time": "2024-11-12T09:50:04.015785Z"
    }
   },
   "source": [
    "from dataclasses import dataclass\n",
    "from enum import Enum\n",
    "from pathlib import Path\n",
    "from typing import List\n",
    "\n",
    "import matplotlib.pyplot as plt\n",
    "import numpy as np\n",
    "\n",
    "from gps_accuracy.gps_accuracy import GpxResult\n",
    "%load_ext autoreload\n",
    "%autoreload 2"
   ],
   "outputs": [
    {
     "name": "stdout",
     "output_type": "stream",
     "text": [
      "The autoreload extension is already loaded. To reload it, use:\n",
      "  %reload_ext autoreload\n"
     ]
    }
   ],
   "execution_count": 40
  },
  {
   "metadata": {
    "ExecuteTime": {
     "end_time": "2024-11-12T11:48:31.945637Z",
     "start_time": "2024-11-12T11:48:31.880388Z"
    }
   },
   "cell_type": "code",
   "source": [
    "from gps_accuracy.gps_accuracy import GpxEvaluator\n",
    "import pandas as pd\n",
    "\n",
    "class InputType(Enum):\n",
    "    Touch = 1\n",
    "    TUI = 2\n",
    "    \n",
    "class Metaphor(Enum):\n",
    "    Gesture = 1\n",
    "    Joystick = 2\n",
    "    Car =  3\n",
    "    \n",
    "@dataclass\n",
    "class ReferenceTrack:\n",
    "    track_id: int\n",
    "    file: Path\n",
    "    \n",
    "    def __init__(self, file_path: Path):\n",
    "        self.track_id = int(file_path.stem)\n",
    "        self.file = file_path\n",
    "\n",
    "@dataclass\n",
    "class RecordedTrack:\n",
    "    track_id: int\n",
    "    user_id: int\n",
    "    input_type: InputType\n",
    "    metaphor: Metaphor\n",
    "    file: Path\n",
    "    result: GpxResult\n",
    "    \n",
    "    def __init__(self, file_path: Path):\n",
    "        file_name = file_path.stem\n",
    "        parts = file_name.split(\"_\")\n",
    "        self.track_id: int = int(parts[0])\n",
    "        self.user_id: int = int(parts[1])\n",
    "        self.input_type: InputType = InputType[parts[2]]\n",
    "        self.metaphor: Metaphor = Metaphor[parts[3]]\n",
    "        self.file: Path = file_path\n",
    "    \n",
    "    def evaluate(self, reference_track: ReferenceTrack):\n",
    "        evaluator = GpxEvaluator(reference_track.file, self.file)\n",
    "        self.result = evaluator.evaluate()\n",
    "              \n",
    "@dataclass\n",
    "class TrackRepository:\n",
    "    reference_tracks: dict\n",
    "    recorded_tracks: List[RecordedTrack]\n",
    "    \n",
    "    def __init__(self):\n",
    "        reference_track_list = [ReferenceTrack(track_file) for track_file in Path(\"reference_tracks\").iterdir() if track_file.is_file()]\n",
    "        self.reference_tracks = {track.track_id: track for track in reference_track_list}\n",
    "        self.recorded_tracks = [RecordedTrack(track_file) for track_file in Path(\"recorded_tracks\").iterdir() if track_file.is_file()]\n",
    "        self._evaluate() \n",
    "    \n",
    "    def _evaluate(self):\n",
    "        for track in self.recorded_tracks:\n",
    "            reference_track = self.reference_tracks[track.track_id]\n",
    "            track.evaluate(reference_track)\n",
    "        \n",
    "    def get_by_track(self, track_id: int) -> List[RecordedTrack]:\n",
    "        return [track for track in self.recorded_tracks if track.track_id == track_id]\n",
    "\n",
    "    def get_by_user(self, user_id: int) -> List[RecordedTrack]:\n",
    "        return [track for track in self.recorded_tracks if track.user_id == user_id]\n",
    "    \n",
    "    def get_by_input_type(self, input_type: InputType) -> List[RecordedTrack]:\n",
    "        return [track for track in self.recorded_tracks if track.input_type == input_type]\n",
    "    \n",
    "    def get_by_metaphor(self, metaphor: Metaphor) -> List[RecordedTrack]:\n",
    "        return [track for track in self.recorded_tracks if track.metaphor == metaphor]\n",
    "    \n",
    "    def get_all(self) -> List[RecordedTrack]:\n",
    "        return self.recorded_tracks\n",
    "\n",
    "class InputFilter(Enum):\n",
    "    InputAll = 1\n",
    "    InputCategorized = 2\n",
    "    \n",
    "class ResultParam(Enum):\n",
    "    Time = 1\n",
    "    MeanError = 2\n",
    "    MedianError = 3\n",
    "    PercentileError = 4\n",
    "\n",
    "class ResultPlotter:\n",
    "    def __init__(self):\n",
    "        self.repo = TrackRepository()\n",
    "        tracks = self.repo.get_all()\n",
    "        data = {\n",
    "            'Track':  [track.track_id for track in tracks],\n",
    "            'InputAll': [f\"{track.input_type.name}_{track.metaphor.name}\" for track in tracks],\n",
    "            'InputCategorized': [track.input_type.name for track in tracks],\n",
    "            'Time': [track.result.time for track in tracks],\n",
    "            'MeanError': [track.result.mean for track in tracks],\n",
    "            'MedianError': [track.result.median for track in tracks],\n",
    "            'PercentileError': [track.result.percentile for track in tracks]\n",
    "        }\n",
    "        self.data_frame = pd.DataFrame(data)\n",
    "        self.data_frame.style.format(precision=2, decimal=\".\")\n",
    "    \n",
    "    def print_result(self, result_param: ResultParam, input_filter: InputFilter, plot = False):\n",
    "        table = self.data_frame.pivot_table(index=\"Track\", columns=input_filter.name, values=result_param.name)\n",
    "        if plot:\n",
    "            plt.figure()\n",
    "            table.plot.bar()\n",
    "        return table.style.format(precision=2).background_gradient(axis=1, cmap='Greens')\n",
    "    "
   ],
   "id": "3b5ee37f61887d48",
   "outputs": [],
   "execution_count": 248
  },
  {
   "metadata": {
    "ExecuteTime": {
     "end_time": "2024-11-12T11:48:36.874086Z",
     "start_time": "2024-11-12T11:48:32.622866Z"
    }
   },
   "cell_type": "code",
   "source": "plotter = ResultPlotter()",
   "id": "f46e084b03c28ecb",
   "outputs": [],
   "execution_count": 249
  },
  {
   "metadata": {
    "ExecuteTime": {
     "end_time": "2024-11-12T11:48:38.824183Z",
     "start_time": "2024-11-12T11:48:38.666328Z"
    }
   },
   "cell_type": "code",
   "source": "plotter.print_result(ResultParam.Time, InputFilter.InputAll, plot=True) # Time in seconds",
   "id": "2d9720d2162159aa",
   "outputs": [
    {
     "data": {
      "text/plain": [
       "<pandas.io.formats.style.Styler at 0x1a01ac18e60>"
      ],
      "text/html": [
       "<style type=\"text/css\">\n",
       "#T_ba4c3_row0_col0 {\n",
       "  background-color: #bde5b6;\n",
       "  color: #000000;\n",
       "}\n",
       "#T_ba4c3_row0_col1, #T_ba4c3_row1_col0 {\n",
       "  background-color: #2a924a;\n",
       "  color: #f1f1f1;\n",
       "}\n",
       "#T_ba4c3_row0_col2, #T_ba4c3_row1_col2, #T_ba4c3_row2_col1, #T_ba4c3_row3_col2 {\n",
       "  background-color: #00441b;\n",
       "  color: #f1f1f1;\n",
       "}\n",
       "#T_ba4c3_row0_col3, #T_ba4c3_row1_col3, #T_ba4c3_row2_col3, #T_ba4c3_row3_col0 {\n",
       "  background-color: #f7fcf5;\n",
       "  color: #000000;\n",
       "}\n",
       "#T_ba4c3_row1_col1 {\n",
       "  background-color: #ddf2d8;\n",
       "  color: #000000;\n",
       "}\n",
       "#T_ba4c3_row2_col0 {\n",
       "  background-color: #006027;\n",
       "  color: #f1f1f1;\n",
       "}\n",
       "#T_ba4c3_row2_col2 {\n",
       "  background-color: #eef8ea;\n",
       "  color: #000000;\n",
       "}\n",
       "#T_ba4c3_row3_col1 {\n",
       "  background-color: #4db163;\n",
       "  color: #f1f1f1;\n",
       "}\n",
       "#T_ba4c3_row3_col3 {\n",
       "  background-color: #dbf1d6;\n",
       "  color: #000000;\n",
       "}\n",
       "</style>\n",
       "<table id=\"T_ba4c3\">\n",
       "  <thead>\n",
       "    <tr>\n",
       "      <th class=\"index_name level0\" >InputAll</th>\n",
       "      <th id=\"T_ba4c3_level0_col0\" class=\"col_heading level0 col0\" >TUI_Car</th>\n",
       "      <th id=\"T_ba4c3_level0_col1\" class=\"col_heading level0 col1\" >TUI_Joystick</th>\n",
       "      <th id=\"T_ba4c3_level0_col2\" class=\"col_heading level0 col2\" >Touch_Gesture</th>\n",
       "      <th id=\"T_ba4c3_level0_col3\" class=\"col_heading level0 col3\" >Touch_Joystick</th>\n",
       "    </tr>\n",
       "    <tr>\n",
       "      <th class=\"index_name level0\" >Track</th>\n",
       "      <th class=\"blank col0\" >&nbsp;</th>\n",
       "      <th class=\"blank col1\" >&nbsp;</th>\n",
       "      <th class=\"blank col2\" >&nbsp;</th>\n",
       "      <th class=\"blank col3\" >&nbsp;</th>\n",
       "    </tr>\n",
       "  </thead>\n",
       "  <tbody>\n",
       "    <tr>\n",
       "      <th id=\"T_ba4c3_level0_row0\" class=\"row_heading level0 row0\" >1</th>\n",
       "      <td id=\"T_ba4c3_row0_col0\" class=\"data row0 col0\" >59.00</td>\n",
       "      <td id=\"T_ba4c3_row0_col1\" class=\"data row0 col1\" >73.00</td>\n",
       "      <td id=\"T_ba4c3_row0_col2\" class=\"data row0 col2\" >82.00</td>\n",
       "      <td id=\"T_ba4c3_row0_col3\" class=\"data row0 col3\" >50.00</td>\n",
       "    </tr>\n",
       "    <tr>\n",
       "      <th id=\"T_ba4c3_level0_row1\" class=\"row_heading level0 row1\" >2</th>\n",
       "      <td id=\"T_ba4c3_row1_col0\" class=\"data row1 col0\" >145.00</td>\n",
       "      <td id=\"T_ba4c3_row1_col1\" class=\"data row1 col1\" >127.00</td>\n",
       "      <td id=\"T_ba4c3_row1_col2\" class=\"data row1 col2\" >154.00</td>\n",
       "      <td id=\"T_ba4c3_row1_col3\" class=\"data row1 col3\" >122.00</td>\n",
       "    </tr>\n",
       "    <tr>\n",
       "      <th id=\"T_ba4c3_level0_row2\" class=\"row_heading level0 row2\" >3</th>\n",
       "      <td id=\"T_ba4c3_row2_col0\" class=\"data row2 col0\" >212.00</td>\n",
       "      <td id=\"T_ba4c3_row2_col1\" class=\"data row2 col1\" >216.00</td>\n",
       "      <td id=\"T_ba4c3_row2_col2\" class=\"data row2 col2\" >173.00</td>\n",
       "      <td id=\"T_ba4c3_row2_col3\" class=\"data row2 col3\" >170.00</td>\n",
       "    </tr>\n",
       "    <tr>\n",
       "      <th id=\"T_ba4c3_level0_row3\" class=\"row_heading level0 row3\" >4</th>\n",
       "      <td id=\"T_ba4c3_row3_col0\" class=\"data row3 col0\" >88.00</td>\n",
       "      <td id=\"T_ba4c3_row3_col1\" class=\"data row3 col1\" >113.00</td>\n",
       "      <td id=\"T_ba4c3_row3_col2\" class=\"data row3 col2\" >130.00</td>\n",
       "      <td id=\"T_ba4c3_row3_col3\" class=\"data row3 col3\" >95.00</td>\n",
       "    </tr>\n",
       "  </tbody>\n",
       "</table>\n"
      ]
     },
     "execution_count": 250,
     "metadata": {},
     "output_type": "execute_result"
    },
    {
     "data": {
      "text/plain": [
       "<Figure size 640x480 with 0 Axes>"
      ]
     },
     "metadata": {},
     "output_type": "display_data"
    },
    {
     "data": {
      "text/plain": [
       "<Figure size 640x480 with 1 Axes>"
      ],
      "image/png": "[encoded data removed]"
     },
     "metadata": {},
     "output_type": "display_data"
    }
   ],
   "execution_count": 250
  },
  {
   "metadata": {
    "ExecuteTime": {
     "end_time": "2024-11-12T11:43:50.540242Z",
     "start_time": "2024-11-12T11:43:50.462777Z"
    }
   },
   "cell_type": "code",
   "source": "plotter.print_result(ResultParam.MeanError, InputFilter.InputAll, plot=False) # Mean Error in meter",
   "id": "d553964c55f3713e",
   "outputs": [
    {
     "data": {
      "text/plain": [
       "<pandas.io.formats.style.Styler at 0x1a0205e1dc0>"
      ],
      "text/html": [
       "<style type=\"text/css\">\n",
       "#T_349f7_row0_col0, #T_349f7_row1_col2, #T_349f7_row2_col1, #T_349f7_row3_col2 {\n",
       "  background-color: #f7fcf5;\n",
       "  color: #000000;\n",
       "}\n",
       "#T_349f7_row0_col1 {\n",
       "  background-color: #e0f3db;\n",
       "  color: #000000;\n",
       "}\n",
       "#T_349f7_row0_col2 {\n",
       "  background-color: #29914a;\n",
       "  color: #f1f1f1;\n",
       "}\n",
       "#T_349f7_row0_col3, #T_349f7_row1_col3, #T_349f7_row2_col3, #T_349f7_row3_col0 {\n",
       "  background-color: #00441b;\n",
       "  color: #f1f1f1;\n",
       "}\n",
       "#T_349f7_row1_col0 {\n",
       "  background-color: #ccebc6;\n",
       "  color: #000000;\n",
       "}\n",
       "#T_349f7_row1_col1 {\n",
       "  background-color: #ceecc8;\n",
       "  color: #000000;\n",
       "}\n",
       "#T_349f7_row2_col0 {\n",
       "  background-color: #d7efd1;\n",
       "  color: #000000;\n",
       "}\n",
       "#T_349f7_row2_col2 {\n",
       "  background-color: #81ca81;\n",
       "  color: #000000;\n",
       "}\n",
       "#T_349f7_row3_col1 {\n",
       "  background-color: #c1e6ba;\n",
       "  color: #000000;\n",
       "}\n",
       "#T_349f7_row3_col3 {\n",
       "  background-color: #5ab769;\n",
       "  color: #f1f1f1;\n",
       "}\n",
       "</style>\n",
       "<table id=\"T_349f7\">\n",
       "  <thead>\n",
       "    <tr>\n",
       "      <th class=\"index_name level0\" >InputAll</th>\n",
       "      <th id=\"T_349f7_level0_col0\" class=\"col_heading level0 col0\" >TUI_Car</th>\n",
       "      <th id=\"T_349f7_level0_col1\" class=\"col_heading level0 col1\" >TUI_Joystick</th>\n",
       "      <th id=\"T_349f7_level0_col2\" class=\"col_heading level0 col2\" >Touch_Gesture</th>\n",
       "      <th id=\"T_349f7_level0_col3\" class=\"col_heading level0 col3\" >Touch_Joystick</th>\n",
       "    </tr>\n",
       "    <tr>\n",
       "      <th class=\"index_name level0\" >Track</th>\n",
       "      <th class=\"blank col0\" >&nbsp;</th>\n",
       "      <th class=\"blank col1\" >&nbsp;</th>\n",
       "      <th class=\"blank col2\" >&nbsp;</th>\n",
       "      <th class=\"blank col3\" >&nbsp;</th>\n",
       "    </tr>\n",
       "  </thead>\n",
       "  <tbody>\n",
       "    <tr>\n",
       "      <th id=\"T_349f7_level0_row0\" class=\"row_heading level0 row0\" >1</th>\n",
       "      <td id=\"T_349f7_row0_col0\" class=\"data row0 col0\" >1.31</td>\n",
       "      <td id=\"T_349f7_row0_col1\" class=\"data row0 col1\" >1.35</td>\n",
       "      <td id=\"T_349f7_row0_col2\" class=\"data row0 col2\" >1.53</td>\n",
       "      <td id=\"T_349f7_row0_col3\" class=\"data row0 col3\" >1.62</td>\n",
       "    </tr>\n",
       "    <tr>\n",
       "      <th id=\"T_349f7_level0_row1\" class=\"row_heading level0 row1\" >2</th>\n",
       "      <td id=\"T_349f7_row1_col0\" class=\"data row1 col0\" >1.46</td>\n",
       "      <td id=\"T_349f7_row1_col1\" class=\"data row1 col1\" >1.45</td>\n",
       "      <td id=\"T_349f7_row1_col2\" class=\"data row1 col2\" >1.32</td>\n",
       "      <td id=\"T_349f7_row1_col3\" class=\"data row1 col3\" >1.91</td>\n",
       "    </tr>\n",
       "    <tr>\n",
       "      <th id=\"T_349f7_level0_row2\" class=\"row_heading level0 row2\" >3</th>\n",
       "      <td id=\"T_349f7_row2_col0\" class=\"data row2 col0\" >1.40</td>\n",
       "      <td id=\"T_349f7_row2_col1\" class=\"data row2 col1\" >1.28</td>\n",
       "      <td id=\"T_349f7_row2_col2\" class=\"data row2 col2\" >1.58</td>\n",
       "      <td id=\"T_349f7_row2_col3\" class=\"data row2 col3\" >1.93</td>\n",
       "    </tr>\n",
       "    <tr>\n",
       "      <th id=\"T_349f7_level0_row3\" class=\"row_heading level0 row3\" >4</th>\n",
       "      <td id=\"T_349f7_row3_col0\" class=\"data row3 col0\" >2.22</td>\n",
       "      <td id=\"T_349f7_row3_col1\" class=\"data row3 col1\" >1.56</td>\n",
       "      <td id=\"T_349f7_row3_col2\" class=\"data row3 col2\" >1.31</td>\n",
       "      <td id=\"T_349f7_row3_col3\" class=\"data row3 col3\" >1.82</td>\n",
       "    </tr>\n",
       "  </tbody>\n",
       "</table>\n"
      ]
     },
     "execution_count": 243,
     "metadata": {},
     "output_type": "execute_result"
    }
   ],
   "execution_count": 243
  },
  {
   "metadata": {
    "ExecuteTime": {
     "end_time": "2024-11-12T11:45:01.897562Z",
     "start_time": "2024-11-12T11:45:01.843042Z"
    }
   },
   "cell_type": "code",
   "source": "plotter.print_result(ResultParam.Time, InputFilter.InputCategorized, plot=False) # Time in seconds",
   "id": "4fec0d87ab29dfe9",
   "outputs": [
    {
     "data": {
      "text/plain": [
       "<pandas.io.formats.style.Styler at 0x1a020250290>"
      ],
      "text/html": [
       "<style type=\"text/css\">\n",
       "#T_a960b_row0_col0, #T_a960b_row0_col1, #T_a960b_row1_col0, #T_a960b_row2_col1, #T_a960b_row3_col0 {\n",
       "  background-color: #f7fcf5;\n",
       "  color: #000000;\n",
       "}\n",
       "#T_a960b_row1_col1, #T_a960b_row2_col0, #T_a960b_row3_col1 {\n",
       "  background-color: #00441b;\n",
       "  color: #f1f1f1;\n",
       "}\n",
       "</style>\n",
       "<table id=\"T_a960b\">\n",
       "  <thead>\n",
       "    <tr>\n",
       "      <th class=\"index_name level0\" >InputCategorized</th>\n",
       "      <th id=\"T_a960b_level0_col0\" class=\"col_heading level0 col0\" >TUI</th>\n",
       "      <th id=\"T_a960b_level0_col1\" class=\"col_heading level0 col1\" >Touch</th>\n",
       "    </tr>\n",
       "    <tr>\n",
       "      <th class=\"index_name level0\" >Track</th>\n",
       "      <th class=\"blank col0\" >&nbsp;</th>\n",
       "      <th class=\"blank col1\" >&nbsp;</th>\n",
       "    </tr>\n",
       "  </thead>\n",
       "  <tbody>\n",
       "    <tr>\n",
       "      <th id=\"T_a960b_level0_row0\" class=\"row_heading level0 row0\" >1</th>\n",
       "      <td id=\"T_a960b_row0_col0\" class=\"data row0 col0\" >66.00</td>\n",
       "      <td id=\"T_a960b_row0_col1\" class=\"data row0 col1\" >66.00</td>\n",
       "    </tr>\n",
       "    <tr>\n",
       "      <th id=\"T_a960b_level0_row1\" class=\"row_heading level0 row1\" >2</th>\n",
       "      <td id=\"T_a960b_row1_col0\" class=\"data row1 col0\" >136.00</td>\n",
       "      <td id=\"T_a960b_row1_col1\" class=\"data row1 col1\" >138.00</td>\n",
       "    </tr>\n",
       "    <tr>\n",
       "      <th id=\"T_a960b_level0_row2\" class=\"row_heading level0 row2\" >3</th>\n",
       "      <td id=\"T_a960b_row2_col0\" class=\"data row2 col0\" >214.00</td>\n",
       "      <td id=\"T_a960b_row2_col1\" class=\"data row2 col1\" >171.50</td>\n",
       "    </tr>\n",
       "    <tr>\n",
       "      <th id=\"T_a960b_level0_row3\" class=\"row_heading level0 row3\" >4</th>\n",
       "      <td id=\"T_a960b_row3_col0\" class=\"data row3 col0\" >100.50</td>\n",
       "      <td id=\"T_a960b_row3_col1\" class=\"data row3 col1\" >112.50</td>\n",
       "    </tr>\n",
       "  </tbody>\n",
       "</table>\n"
      ]
     },
     "execution_count": 245,
     "metadata": {},
     "output_type": "execute_result"
    }
   ],
   "execution_count": 245
  },
  {
   "metadata": {
    "ExecuteTime": {
     "end_time": "2024-11-12T11:45:12.948318Z",
     "start_time": "2024-11-12T11:45:12.879140Z"
    }
   },
   "cell_type": "code",
   "source": "plotter.print_result(ResultParam.MeanError, InputFilter.InputCategorized, plot=False) # Mean Error in meter",
   "id": "210d6dff0800b2a4",
   "outputs": [
    {
     "data": {
      "text/plain": [
       "<pandas.io.formats.style.Styler at 0x1a0205e1a90>"
      ],
      "text/html": [
       "<style type=\"text/css\">\n",
       "#T_e4805_row0_col0, #T_e4805_row1_col0, #T_e4805_row2_col0, #T_e4805_row3_col1 {\n",
       "  background-color: #f7fcf5;\n",
       "  color: #000000;\n",
       "}\n",
       "#T_e4805_row0_col1, #T_e4805_row1_col1, #T_e4805_row2_col1, #T_e4805_row3_col0 {\n",
       "  background-color: #00441b;\n",
       "  color: #f1f1f1;\n",
       "}\n",
       "</style>\n",
       "<table id=\"T_e4805\">\n",
       "  <thead>\n",
       "    <tr>\n",
       "      <th class=\"index_name level0\" >InputCategorized</th>\n",
       "      <th id=\"T_e4805_level0_col0\" class=\"col_heading level0 col0\" >TUI</th>\n",
       "      <th id=\"T_e4805_level0_col1\" class=\"col_heading level0 col1\" >Touch</th>\n",
       "    </tr>\n",
       "    <tr>\n",
       "      <th class=\"index_name level0\" >Track</th>\n",
       "      <th class=\"blank col0\" >&nbsp;</th>\n",
       "      <th class=\"blank col1\" >&nbsp;</th>\n",
       "    </tr>\n",
       "  </thead>\n",
       "  <tbody>\n",
       "    <tr>\n",
       "      <th id=\"T_e4805_level0_row0\" class=\"row_heading level0 row0\" >1</th>\n",
       "      <td id=\"T_e4805_row0_col0\" class=\"data row0 col0\" >1.33</td>\n",
       "      <td id=\"T_e4805_row0_col1\" class=\"data row0 col1\" >1.58</td>\n",
       "    </tr>\n",
       "    <tr>\n",
       "      <th id=\"T_e4805_level0_row1\" class=\"row_heading level0 row1\" >2</th>\n",
       "      <td id=\"T_e4805_row1_col0\" class=\"data row1 col0\" >1.45</td>\n",
       "      <td id=\"T_e4805_row1_col1\" class=\"data row1 col1\" >1.62</td>\n",
       "    </tr>\n",
       "    <tr>\n",
       "      <th id=\"T_e4805_level0_row2\" class=\"row_heading level0 row2\" >3</th>\n",
       "      <td id=\"T_e4805_row2_col0\" class=\"data row2 col0\" >1.34</td>\n",
       "      <td id=\"T_e4805_row2_col1\" class=\"data row2 col1\" >1.76</td>\n",
       "    </tr>\n",
       "    <tr>\n",
       "      <th id=\"T_e4805_level0_row3\" class=\"row_heading level0 row3\" >4</th>\n",
       "      <td id=\"T_e4805_row3_col0\" class=\"data row3 col0\" >1.89</td>\n",
       "      <td id=\"T_e4805_row3_col1\" class=\"data row3 col1\" >1.56</td>\n",
       "    </tr>\n",
       "  </tbody>\n",
       "</table>\n"
      ]
     },
     "execution_count": 246,
     "metadata": {},
     "output_type": "execute_result"
    }
   ],
   "execution_count": 246
  },
  {
   "metadata": {},
   "cell_type": "code",
   "outputs": [],
   "execution_count": null,
   "source": "",
   "id": "bdd6dee4d402efe2"
  }
 ],
 "metadata": {
  "kernelspec": {
   "display_name": "Python 3",
   "language": "python",
   "name": "python3"
  },
  "language_info": {
   "codemirror_mode": {
    "name": "ipython",
    "version": 2
   },
   "file_extension": ".py",
   "mimetype": "text/x-python",
   "name": "python",
   "nbconvert_exporter": "python",
   "pygments_lexer": "ipython2",
   "version": "2.7.6"
  }
 },
 "nbformat": 4,
 "nbformat_minor": 5
}
